{
 "cells": [
  {
   "cell_type": "code",
   "execution_count": null,
   "id": "0738c391",
   "metadata": {},
   "outputs": [],
   "source": [
    "#Package Imports and Page Title\n",
    "import streamlit as st\n",
    "import ollama\n",
    "\n",
    "st.title('QueryBuddy Chatbox')"
   ]
  },
  {
   "cell_type": "code",
   "execution_count": null,
   "id": "9da25c40",
   "metadata": {},
   "outputs": [],
   "source": [
    "#Creates a session state to store messages\n",
    "#This allows the app to remember previous messages\n",
    "if 'messages' not in st.session_state:\n",
    "    st.session_state.messages = []"
   ]
  },
  {
   "cell_type": "code",
   "execution_count": null,
   "id": "46456d4e",
   "metadata": {},
   "outputs": [],
   "source": [
    "#Display Previous messages\n",
    "for message in st.session_state.messages:\n",
    "    with st.chat_message(message[\"role\"]):\n",
    "        st.markdown(message[\"content\"])\n",
    "        if 'image' in message:\n",
    "            st.image(message[\"image\"], caption=\"Image uploaded by user\", use_container_width=True)\n",
    "\n",
    "#File Uploader\n",
    "with st.container():\n",
    "    file_upload = st.file_uploader(\"Upload an image file\", type=[\"png\", \"jpg\", \"jpeg\",\"svg\"])"
   ]
  },
  {
   "cell_type": "code",
   "execution_count": null,
   "id": "233d900a",
   "metadata": {},
   "outputs": [],
   "source": [
    "#Prompting and Code generation\n",
    "if prompt:= st.chat_input(\"Welcome to the Ollama Chatbot! Ask me anything\"):\n",
    "        #User input is captured and added to the session state\n",
    "        user_prompt = {\"role\": \"user\", \"content\": prompt}\n",
    "        \n",
    "        if file_upload:\n",
    "            try:\n",
    "                user_prompt['image']=file_upload.getvalue()\n",
    "            except Exception as e:\n",
    "                st.error(f\"Error reading uploaded file: {e}\")\n",
    "\n",
    "        st.session_state.messages.append(user_prompt)\n",
    "\n",
    "        with st.chat_message(\"user\"):\n",
    "            st.write(prompt)\n",
    "            if file_upload:\n",
    "                try:\n",
    "                    st.image(file_upload, caption=\"Upload Successful\", use_container_width=True)\n",
    "                except Exception as e:\n",
    "                    st.error(f\"Error displaying uploaded image: {e}\")\n",
    "\n",
    "        #The model processes the input and generates a response\n",
    "        with st.chat_message(\"assistant\"):\n",
    "            try:\n",
    "                model_message = []\n",
    "                for m in st.session_state.messages:\n",
    "                    msg={\"role\": m[\"role\"], \"content\": m['content']}\n",
    "                    if m.get('image'):\n",
    "                        msg['image']=[m['image']]\n",
    "                        model_message.append(msg)\n",
    "\n",
    "                response = ollama.chat(model='llava', messages=model_message, stream=True)\n",
    "                response_text = \"\"\n",
    "                def catch_response(response):\n",
    "                    global response_text\n",
    "                    for chunks in response:\n",
    "                        response_text += chunks['message']['content']\n",
    "                        yield chunks['message']['content']\n",
    "\n",
    "                response_stream = catch_response(response)\n",
    "                st.write_stream(response_stream)\n",
    "                \n",
    "                st.session_state.messages.append({\"role\": \"assistant\", \"content\": response_text})\n",
    "            except Exception as e:\n",
    "                st.error(f\"Error communicating with the model: {e}\")\n"
   ]
  },
  {
   "cell_type": "code",
   "execution_count": null,
   "id": "14af3b33",
   "metadata": {},
   "outputs": [],
   "source": [
    "# Note: Do not run this code. On your terminal, use\n",
    "#streamlit run app.py"
   ]
  }
 ],
 "metadata": {
  "language_info": {
   "name": "python"
  }
 },
 "nbformat": 4,
 "nbformat_minor": 5
}
