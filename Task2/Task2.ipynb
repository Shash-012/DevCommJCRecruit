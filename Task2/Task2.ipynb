{
 "cells": [
  {
   "cell_type": "code",
   "execution_count": null,
   "id": "0738c391",
   "metadata": {},
   "outputs": [],
   "source": [
    "#Package Imports and Page Title\n",
    "import streamlit as st\n",
    "import ollama\n",
    "\n",
    "st.title('QueryBuddy Chatbox')"
   ]
  },
  {
   "cell_type": "code",
   "execution_count": null,
   "id": "9da25c40",
   "metadata": {},
   "outputs": [],
   "source": [
    "#Creates a session state to store messages\n",
    "#This allows the app to remember previous messages\n",
    "if 'messages' not in st.session_state:\n",
    "    st.session_state.messages = []"
   ]
  },
  {
   "cell_type": "code",
   "execution_count": null,
   "id": "46456d4e",
   "metadata": {},
   "outputs": [],
   "source": [
    "# Display previous messages\n",
    "for message in st.session_state.messages:\n",
    "    with st.chat_message(message[\"role\"]):\n",
    "        st.markdown(message[\"content\"])\n",
    "        if 'image' in message:\n",
    "            st.image(message[\"image\"], caption=\"Image uploaded by user\", use_container_width=True)\n",
    "\n",
    "# File uploader container\n",
    "with st.container():\n",
    "    file_upload = st.file_uploader(\"Upload an image file\", type=[\"png\", \"jpg\", \"jpeg\", \"svg\"])"
   ]
  },
  {
   "cell_type": "code",
   "execution_count": null,
   "id": "233d900a",
   "metadata": {},
   "outputs": [],
   "source": [
    "#prompting and output generate\n",
    "if prompt := st.chat_input(\"Welcome to the Ollama Chatbot! Ask me anything\"):\n",
    "    user_prompt = {\"role\": \"user\", \"content\": prompt}\n",
    "\n",
    "    if file_upload:\n",
    "        try:\n",
    "            user_prompt['image'] = file_upload.getvalue()\n",
    "        except Exception as e:\n",
    "            st.error(f\"Error reading uploaded file: {e}\")\n",
    "\n",
    "    st.session_state.messages.append(user_prompt)\n",
    "\n",
    "    with st.chat_message(\"user\"):\n",
    "        st.markdown(prompt)\n",
    "        if file_upload:\n",
    "            try:\n",
    "                if file_upload.name.endswith(\".svg\"):\n",
    "                    st.markdown(file_upload.getvalue().decode('utf-8'), unsafe_allow_html=True)\n",
    "                else:\n",
    "                    st.image(file_upload, caption=\"Upload Successful\", use_container_width=True)\n",
    "            except Exception as e:\n",
    "                st.error(f\"Error displaying uploaded image: {e}\")\n",
    "\n",
    "    # Ollama model response\n",
    "    with st.chat_message(\"assistant\"):\n",
    "        try:\n",
    "            model_messages = []\n",
    "            for m in st.session_state.messages:\n",
    "                msg = {\"role\": m[\"role\"], \"content\": m[\"content\"]}\n",
    "                if m.get(\"image\"):\n",
    "                    msg[\"image\"] = m[\"image\"]  # Pass the image as is\n",
    "                model_messages.append(msg)\n",
    "\n",
    "            response = ollama.chat(model='llava', messages=model_messages, stream=True)\n",
    "\n",
    "            response_text = \"\"\n",
    "            placeholder = st.empty()\n",
    "\n",
    "            for chunk in response:\n",
    "                content = chunk[\"message\"][\"content\"]\n",
    "                response_text += content\n",
    "                placeholder.markdown(response_text)\n",
    "\n",
    "            st.session_state.messages.append({\"role\": \"assistant\", \"content\": response_text})\n",
    "\n",
    "        except Exception as e:\n",
    "            st.error(f\"Error communicating with the model: {e}\")"
   ]
  },
  {
   "cell_type": "code",
   "execution_count": null,
   "id": "14af3b33",
   "metadata": {},
   "outputs": [],
   "source": [
    "# Note: Do not run this code. On your terminal, use\n",
    "#streamlit run app.py"
   ]
  }
 ],
 "metadata": {
  "language_info": {
   "name": "python"
  }
 },
 "nbformat": 4,
 "nbformat_minor": 5
}
